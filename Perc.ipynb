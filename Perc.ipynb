{
 "cells": [
  {
   "cell_type": "code",
   "execution_count": 3,
   "metadata": {},
   "outputs": [
    {
     "name": "stdout",
     "output_type": "stream",
     "text": [
      "enter a number between 0 and 1=0\n",
      "side=55 <t>= 0.00 <t>/r2= 0.00 perc= 0.00\n",
      "side=55 <t>= 0.00 <t>/r2= 0.00 perc= 0.00\n",
      "side=55 <t>= 0.00 <t>/r2= 0.00 perc= 0.00\n",
      "side=55 <t>= 0.00 <t>/r2= 0.00 perc= 0.00\n",
      "side=55 <t>= 0.00 <t>/r2= 0.00 perc= 0.00\n",
      "side=55 <t>= 0.00 <t>/r2= 0.00 perc= 0.00\n",
      "side=55 <t>= 0.00 <t>/r2= 0.00 perc= 0.00\n",
      "side=55 <t>= 0.00 <t>/r2= 0.00 perc= 0.00\n",
      "side=55 <t>= 0.00 <t>/r2= 0.00 perc= 0.00\n",
      "side=55 <t>= 0.00 <t>/r2= 0.00 perc= 0.00\n",
      "side=55 <t>= 0.00 <t>/r2= 0.00 perc= 0.00\n",
      "side=55 <t>= 0.00 <t>/r2= 0.00 perc= 0.00\n",
      "side=55 <t>= 0.00 <t>/r2= 0.00 perc= 0.00\n",
      "side=55 <t>= 0.00 <t>/r2= 0.00 perc= 0.00\n",
      "side=55 <t>= 0.00 <t>/r2= 0.00 perc= 0.00\n",
      "side=55 <t>= 0.00 <t>/r2= 0.00 perc= 0.00\n",
      "side=55 <t>= 0.00 <t>/r2= 0.00 perc= 0.00\n",
      "side=55 <t>= 0.00 <t>/r2= 0.00 perc= 0.00\n",
      "side=55 <t>= 0.00 <t>/r2= 0.00 perc= 0.00\n",
      "side=55 <t>= 0.00 <t>/r2= 0.00 perc= 0.00\n",
      "side=55 <t>= 0.00 <t>/r2= 0.00 perc= 0.00\n",
      "side=55 <t>= 0.00 <t>/r2= 0.00 perc= 0.00\n",
      "side=55 <t>= 0.00 <t>/r2= 0.00 perc= 0.00\n",
      "side=55 <t>= 0.00 <t>/r2= 0.00 perc= 0.00\n",
      "side=55 <t>= 0.00 <t>/r2= 0.00 perc= 0.00\n",
      "side=55 <t>= 0.00 <t>/r2= 0.00 perc= 0.00\n",
      "side=55 <t>= 0.00 <t>/r2= 0.00 perc= 0.00\n",
      "side=55 <t>= 0.00 <t>/r2= 0.00 perc= 0.00\n",
      "side=55 <t>= 0.00 <t>/r2= 0.00 perc= 0.00\n",
      "side=55 <t>= 0.00 <t>/r2= 0.00 perc= 0.00\n",
      "side=55 <t>= 0.00 <t>/r2= 0.00 perc= 0.00\n",
      "side=55 <t>= 0.00 <t>/r2= 0.00 perc= 0.00\n",
      "side=55 <t>= 0.00 <t>/r2= 0.00 perc= 0.00\n",
      "side=55 <t>= 0.00 <t>/r2= 0.00 perc= 0.00\n",
      "side=55 <t>= 0.00 <t>/r2= 0.00 perc= 0.00\n",
      "side=55 <t>= 0.00 <t>/r2= 0.00 perc= 0.00\n",
      "side=55 <t>= 0.00 <t>/r2= 0.00 perc= 0.00\n",
      "side=55 <t>= 0.00 <t>/r2= 0.00 perc= 0.00\n",
      "side=55 <t>= 0.00 <t>/r2= 0.00 perc= 0.00\n",
      "side=55 <t>= 0.00 <t>/r2= 0.00 perc= 0.00\n",
      "side=55 <t>= 0.00 <t>/r2= 0.00 perc= 0.00\n",
      "side=55 <t>= 0.00 <t>/r2= 0.00 perc= 0.00\n",
      "side=55 <t>= 0.00 <t>/r2= 0.00 perc= 0.00\n",
      "side=55 <t>= 0.00 <t>/r2= 0.00 perc= 0.00\n",
      "side=55 <t>= 0.00 <t>/r2= 0.00 perc= 0.00\n",
      "side=55 <t>= 0.00 <t>/r2= 0.00 perc= 0.00\n",
      "side=55 <t>= 0.00 <t>/r2= 0.00 perc= 0.00\n",
      "side=55 <t>= 0.00 <t>/r2= 0.00 perc= 0.00\n",
      "side=55 <t>= 0.00 <t>/r2= 0.00 perc= 0.00\n",
      "side=55 <t>= 0.00 <t>/r2= 0.00 perc= 0.00\n",
      "side=55 <t>= 0.00 <t>/r2= 0.00 perc= 0.00\n",
      "side=55 <t>= 0.00 <t>/r2= 0.00 perc= 0.00\n",
      "side=55 <t>= 0.00 <t>/r2= 0.00 perc= 0.00\n",
      "side=55 <t>= 0.00 <t>/r2= 0.00 perc= 0.00\n",
      "side=55 <t>= 0.00 <t>/r2= 0.00 perc= 0.00\n"
     ]
    }
   ],
   "source": [
    "from random import choice\n",
    "npart=100\n",
    "side=55  #Should be an odd number\n",
    "maxsteps=1000\n",
    "perc=0\n",
    "time = 0\n",
    "density=(input(\"enter a number between 0 and 1=\"))\n",
    "steps = [(1,0),(-1,0),(0,1),(0,-1)]\n",
    "for iside in range(side):\n",
    "    grid=[[0 for x in range(side)] for y in range(side)]\n",
    "    time=0\n",
    "    perc=0\n",
    "    for ipart in range(npart):\n",
    "        grid=[[choice(density) for x in range(side)] for y in range(side)]    \n",
    "        x,y = side//2, side//2\n",
    "        counter=0\n",
    "        for istep in range(maxsteps):\n",
    "            counter+=1\n",
    "            grid[x][y]=0\n",
    "            sx,sy = choice(steps)\n",
    "        x += sx\n",
    "        y += sy\n",
    "        if sx==1 or sy==1:\n",
    "            continue\n",
    "        if x<0 or y<0 or x==side or y==side:\n",
    "            time+=counter\n",
    "            perc+=1 \n",
    "            break\n",
    "        grid[x][y]=1\n",
    "    avetime=time/npart\n",
    "    print(\"side=%d <t>=%5.2f <t>/r2=%5.2f perc=%5.2f\"%(side,avetime,avetime/(side**2),perc))"
   ]
  },
  {
   "cell_type": "code",
   "execution_count": 5,
   "metadata": {},
   "outputs": [
    {
     "name": "stdout",
     "output_type": "stream",
     "text": [
      "enter a number between 0 and 1=0\n",
      "side=51 <t>=356.18 <t>/r2= 0.14 perc=34.00\n"
     ]
    },
    {
     "ename": "IndexError",
     "evalue": "list assignment index out of range",
     "output_type": "error",
     "traceback": [
      "\u001b[1;31m---------------------------------------------------------------------------\u001b[0m",
      "\u001b[1;31mIndexError\u001b[0m                                Traceback (most recent call last)",
      "\u001b[1;32m<ipython-input-5-518d32d92dca>\u001b[0m in \u001b[0;36m<module>\u001b[1;34m\u001b[0m\n\u001b[0;32m     22\u001b[0m         \u001b[1;32mfor\u001b[0m \u001b[0mistep\u001b[0m \u001b[1;32min\u001b[0m \u001b[0mrange\u001b[0m\u001b[1;33m(\u001b[0m\u001b[0mmaxsteps\u001b[0m\u001b[1;33m)\u001b[0m\u001b[1;33m:\u001b[0m\u001b[1;33m\u001b[0m\u001b[1;33m\u001b[0m\u001b[0m\n\u001b[0;32m     23\u001b[0m             \u001b[0mcounter\u001b[0m\u001b[1;33m+=\u001b[0m\u001b[1;36m1\u001b[0m\u001b[1;33m\u001b[0m\u001b[1;33m\u001b[0m\u001b[0m\n\u001b[1;32m---> 24\u001b[1;33m             \u001b[0mgrid\u001b[0m\u001b[1;33m[\u001b[0m\u001b[0mx\u001b[0m\u001b[1;33m]\u001b[0m\u001b[1;33m[\u001b[0m\u001b[0my\u001b[0m\u001b[1;33m]\u001b[0m\u001b[1;33m=\u001b[0m\u001b[1;36m0\u001b[0m\u001b[1;33m\u001b[0m\u001b[1;33m\u001b[0m\u001b[0m\n\u001b[0m\u001b[0;32m     25\u001b[0m             \u001b[0msx\u001b[0m\u001b[1;33m,\u001b[0m\u001b[0msy\u001b[0m \u001b[1;33m=\u001b[0m \u001b[0mrd\u001b[0m\u001b[1;33m.\u001b[0m\u001b[0mchoice\u001b[0m\u001b[1;33m(\u001b[0m\u001b[0msteps\u001b[0m\u001b[1;33m)\u001b[0m\u001b[1;33m\u001b[0m\u001b[1;33m\u001b[0m\u001b[0m\n\u001b[0;32m     26\u001b[0m             \u001b[0mx\u001b[0m \u001b[1;33m+=\u001b[0m \u001b[0msx\u001b[0m\u001b[1;33m\u001b[0m\u001b[1;33m\u001b[0m\u001b[0m\n",
      "\u001b[1;31mIndexError\u001b[0m: list assignment index out of range"
     ]
    }
   ],
   "source": [
    "import random as rd\n",
    "npart=50\n",
    "side=51  #Should be an odd number\n",
    "maxsteps=1000\n",
    "perc=0\n",
    "time = 0\n",
    "choice=[1,0]\n",
    "density=float((input(\"enter a number between 0 and 1=\")))\n",
    "denstot=[]\n",
    "denstot.append(density)\n",
    "dens1=float(1-density)\n",
    "denstot.append(dens1)\n",
    "steps = [(1,0),(-1,0),(0,1),(0,-1)]\n",
    "for iside in range(side):\n",
    "    grid=[[0 for x in range(side)] for y in range(side)]\n",
    "    time=0\n",
    "    perc=0\n",
    "    for ipart in range(npart):\n",
    "        grid=[[rd.choices(choice,denstot) for x in range(side)] for y in range(side)]    \n",
    "        x,y = side//2, side//2\n",
    "        counter=0\n",
    "        for istep in range(maxsteps):\n",
    "            counter+=1\n",
    "            grid[x][y]=0\n",
    "            sx,sy = rd.choice(steps)\n",
    "            x += sx\n",
    "            y += sy\n",
    "            if x==1 or y==1:\n",
    "                continue\n",
    "            if x<0 or y<0 or x==side or y==side:\n",
    "               time+=counter\n",
    "               perc+=1 \n",
    "               break\n",
    "            grid[x][y]=1\n",
    "    avetime=time/npart\n",
    "    print(\"side=%d <t>=%5.2f <t>/r2=%5.2f perc=%5.2f\"%(side,avetime,avetime/(side**2),perc))"
   ]
  },
  {
   "cell_type": "code",
   "execution_count": null,
   "metadata": {},
   "outputs": [],
   "source": []
  },
  {
   "cell_type": "code",
   "execution_count": null,
   "metadata": {},
   "outputs": [],
   "source": []
  }
 ],
 "metadata": {
  "kernelspec": {
   "display_name": "Python 3",
   "language": "python",
   "name": "python3"
  },
  "language_info": {
   "codemirror_mode": {
    "name": "ipython",
    "version": 3
   },
   "file_extension": ".py",
   "mimetype": "text/x-python",
   "name": "python",
   "nbconvert_exporter": "python",
   "pygments_lexer": "ipython3",
   "version": "3.7.1"
  }
 },
 "nbformat": 4,
 "nbformat_minor": 2
}
