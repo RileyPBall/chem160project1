{
 "cells": [
  {
   "cell_type": "code",
   "execution_count": 70,
   "metadata": {},
   "outputs": [
    {
     "name": "stdout",
     "output_type": "stream",
     "text": [
      "enter a number between 0 and 1=0.5\n",
      "0.5\n",
      "[[[0], [1], [0], [1], [1]], [[0], [0], [0], [1], [1]], [[0], [0], [1], [1], [0]], [[0], [1], [1], [0], [0]], [[1], [0], [1], [0], [0]]]\n"
     ]
    }
   ],
   "source": [
    "import random as rd\n",
    "npart=10\n",
    "side=5  #Should be an odd number\n",
    "maxsteps=1000\n",
    "perc=0\n",
    "time = 0\n",
    "choice=[1,0]\n",
    "density=float((input(\"enter a number between 0 and 1=\")))\n",
    "denstot=[]\n",
    "denstot.append(density)\n",
    "dens1=float(1-density)\n",
    "denstot.append(dens1)\n",
    "steps = [(1,0),(-1,0),(0,1),(0,-1)]\n",
    "for iside in range(side):\n",
    "    grid=[[0 for x in range(side)] for y in range(side)]\n",
    "    time=0\n",
    "    perc=0\n",
    "    for ipart in range(npart):\n",
    "        grid=[[rd.choices(choice,denstot) for x in range(side)] for y in range(side)]    \n",
    "        x,y = side//2, side//2\n",
    "        counter=0\n",
    "print(density)\n",
    "print(grid)"
   ]
  },
  {
   "cell_type": "code",
   "execution_count": 15,
   "metadata": {},
   "outputs": [
    {
     "name": "stdout",
     "output_type": "stream",
     "text": [
      "enter a number between 0 and 1=0\n"
     ]
    },
    {
     "ename": "IndexError",
     "evalue": "list index out of range",
     "output_type": "error",
     "traceback": [
      "\u001b[1;31m---------------------------------------------------------------------------\u001b[0m",
      "\u001b[1;31mIndexError\u001b[0m                                Traceback (most recent call last)",
      "\u001b[1;32m<ipython-input-15-4eb8ce8c65ab>\u001b[0m in \u001b[0;36m<module>\u001b[1;34m\u001b[0m\n\u001b[0;32m     18\u001b[0m         \u001b[1;32mfor\u001b[0m \u001b[0mistep\u001b[0m \u001b[1;32min\u001b[0m \u001b[0mrange\u001b[0m\u001b[1;33m(\u001b[0m\u001b[0mmaxsteps\u001b[0m\u001b[1;33m)\u001b[0m\u001b[1;33m:\u001b[0m\u001b[1;33m\u001b[0m\u001b[1;33m\u001b[0m\u001b[0m\n\u001b[0;32m     19\u001b[0m             \u001b[0mcounter\u001b[0m\u001b[1;33m+=\u001b[0m\u001b[1;36m1\u001b[0m\u001b[1;33m\u001b[0m\u001b[1;33m\u001b[0m\u001b[0m\n\u001b[1;32m---> 20\u001b[1;33m             \u001b[0mgrid\u001b[0m\u001b[1;33m[\u001b[0m\u001b[0mx\u001b[0m\u001b[1;33m]\u001b[0m\u001b[1;33m[\u001b[0m\u001b[0my\u001b[0m\u001b[1;33m]\u001b[0m\u001b[1;33m=\u001b[0m\u001b[1;36m0\u001b[0m\u001b[1;33m\u001b[0m\u001b[1;33m\u001b[0m\u001b[0m\n\u001b[0m\u001b[0;32m     21\u001b[0m             \u001b[0msx\u001b[0m\u001b[1;33m,\u001b[0m\u001b[0msy\u001b[0m \u001b[1;33m=\u001b[0m \u001b[0mrd\u001b[0m\u001b[1;33m.\u001b[0m\u001b[0mchoice\u001b[0m\u001b[1;33m(\u001b[0m\u001b[0msteps\u001b[0m\u001b[1;33m)\u001b[0m\u001b[1;33m\u001b[0m\u001b[1;33m\u001b[0m\u001b[0m\n\u001b[0;32m     22\u001b[0m             \u001b[0mx\u001b[0m \u001b[1;33m+=\u001b[0m \u001b[0msx\u001b[0m\u001b[1;33m\u001b[0m\u001b[1;33m\u001b[0m\u001b[0m\n",
      "\u001b[1;31mIndexError\u001b[0m: list index out of range"
     ]
    }
   ],
   "source": [
    "import random as rd\n",
    "npart=1\n",
    "side=5  #Should be an odd number\n",
    "maxsteps=1000\n",
    "perc=0\n",
    "time = 0\n",
    "density=(input(\"enter a number between 0 and 1=\"))\n",
    "steps = [(1,0),(-1,0),(0,1),(0,-1)]\n",
    "for iside in range(side):\n",
    "    grid=[[0 for x in range(side)] for y in range(side)]\n",
    "    time=0\n",
    "    perc=0\n",
    "    for ipart in range(npart):\n",
    "        grid=[[choices(density) for x in range(side)] for y in range(side)]    \n",
    "        x,y = side//2, side//2\n",
    "        counter=0\n",
    "        grid[x][y]=0\n",
    "        for istep in range(maxsteps):\n",
    "            counter+=1\n",
    "            grid[x][y]=0\n",
    "            sx,sy = rd.choice(steps)\n",
    "            x += sx\n",
    "            y += sy\n",
    "print(x,y)"
   ]
  },
  {
   "cell_type": "code",
   "execution_count": 34,
   "metadata": {},
   "outputs": [
    {
     "name": "stdout",
     "output_type": "stream",
     "text": [
      "enter a number between 0 and 1=1\n"
     ]
    },
    {
     "ename": "IndexError",
     "evalue": "list index out of range",
     "output_type": "error",
     "traceback": [
      "\u001b[1;31m---------------------------------------------------------------------------\u001b[0m",
      "\u001b[1;31mIndexError\u001b[0m                                Traceback (most recent call last)",
      "\u001b[1;32m<ipython-input-34-ba3541acdc8f>\u001b[0m in \u001b[0;36m<module>\u001b[1;34m\u001b[0m\n\u001b[0;32m     26\u001b[0m             \u001b[0mx\u001b[0m \u001b[1;33m+=\u001b[0m \u001b[0msx\u001b[0m\u001b[1;33m\u001b[0m\u001b[1;33m\u001b[0m\u001b[0m\n\u001b[0;32m     27\u001b[0m             \u001b[0my\u001b[0m \u001b[1;33m+=\u001b[0m \u001b[0msy\u001b[0m\u001b[1;33m\u001b[0m\u001b[1;33m\u001b[0m\u001b[0m\n\u001b[1;32m---> 28\u001b[1;33m             \u001b[1;32mif\u001b[0m \u001b[0mgrid\u001b[0m\u001b[1;33m[\u001b[0m\u001b[0mx\u001b[0m\u001b[1;33m]\u001b[0m\u001b[1;33m==\u001b[0m\u001b[1;36m1\u001b[0m \u001b[1;32mor\u001b[0m \u001b[0mgrid\u001b[0m\u001b[1;33m[\u001b[0m\u001b[0my\u001b[0m\u001b[1;33m]\u001b[0m\u001b[1;33m==\u001b[0m\u001b[1;36m1\u001b[0m\u001b[1;33m:\u001b[0m\u001b[1;33m\u001b[0m\u001b[1;33m\u001b[0m\u001b[0m\n\u001b[0m\u001b[0;32m     29\u001b[0m                 \u001b[1;32mcontinue\u001b[0m\u001b[1;33m\u001b[0m\u001b[1;33m\u001b[0m\u001b[0m\n\u001b[0;32m     30\u001b[0m             \u001b[1;32mif\u001b[0m \u001b[0mx\u001b[0m\u001b[1;33m<\u001b[0m\u001b[1;36m0\u001b[0m \u001b[1;32mor\u001b[0m \u001b[0my\u001b[0m\u001b[1;33m<\u001b[0m\u001b[1;36m0\u001b[0m \u001b[1;32mor\u001b[0m \u001b[0mx\u001b[0m\u001b[1;33m==\u001b[0m\u001b[0mside\u001b[0m \u001b[1;32mor\u001b[0m \u001b[0my\u001b[0m\u001b[1;33m==\u001b[0m\u001b[0mside\u001b[0m\u001b[1;33m:\u001b[0m\u001b[1;33m\u001b[0m\u001b[1;33m\u001b[0m\u001b[0m\n",
      "\u001b[1;31mIndexError\u001b[0m: list index out of range"
     ]
    }
   ],
   "source": [
    "import random as rd\n",
    "npart=5\n",
    "side=5  #Should be an odd number\n",
    "maxsteps=1000\n",
    "perc=0\n",
    "time = 0\n",
    "choice=[1,0]\n",
    "density=float((input(\"enter a number between 0 and 1=\")))\n",
    "denstot=[]\n",
    "denstot.append(density)\n",
    "dens1=float(1-density)\n",
    "denstot.append(dens1)\n",
    "steps = [(1,0),(-1,0),(0,1),(0,-1)]\n",
    "for iside in range(side):\n",
    "    grid=[[0 for x in range(side)] for y in range(side)]\n",
    "    time=0\n",
    "    perc=0\n",
    "    for ipart in range(npart):\n",
    "        grid=[[rd.choices(choice,denstot) for x in range(side)] for y in range(side)]    \n",
    "        x,y = side//2, side//2\n",
    "        counter=0\n",
    "        for istep in range(maxsteps):\n",
    "            grid[x][y]=0\n",
    "            counter+=1\n",
    "            sx,sy = rd.choice(steps)\n",
    "            x += sx\n",
    "            y += sy\n",
    "            if grid[x]==1 or grid[y]==1:\n",
    "                continue\n",
    "            if x<0 or y<0 or x==side or y==side:\n",
    "               time+=counter\n",
    "               perc+=1 \n",
    "               break\n",
    "    avetime=time/npart\n",
    "    print(\"side=%d <t>=%5.2f <t>/r2=%5.2f perc=%5.2f\"%(side,avetime,avetime/(side**2),perc))"
   ]
  },
  {
   "cell_type": "code",
   "execution_count": 33,
   "metadata": {},
   "outputs": [
    {
     "name": "stdout",
     "output_type": "stream",
     "text": [
      "enter a number between 0 and 1=1\n",
      "0\n",
      "[[[1], [1], [1], [1], [1]], [[1], [1], [1], [1], [1]], [[1], [1], 0, [1], [1]], [[1], [1], [1], [1], [1]], [[1], [1], [1], [1], [1]]]\n"
     ]
    }
   ],
   "source": [
    "import random as rd\n",
    "npart=5\n",
    "side=5  #Should be an odd number\n",
    "maxsteps=1000\n",
    "perc=0\n",
    "time = 0\n",
    "choice=[1,0]\n",
    "density=float((input(\"enter a number between 0 and 1=\")))\n",
    "denstot=[]\n",
    "denstot.append(density)\n",
    "dens1=float(1-density)\n",
    "denstot.append(dens1)\n",
    "steps = [(1,0),(-1,0),(0,1),(0,-1)]\n",
    "for iside in range(side):\n",
    "    grid=[[0 for x in range(side)] for y in range(side)]\n",
    "    time=0\n",
    "    perc=0\n",
    "    for ipart in range(npart):\n",
    "        grid=[[rd.choices(choice,denstot) for x in range(side)] for y in range(side)]    \n",
    "        x,y = side//2, side//2\n",
    "        counter=0\n",
    "        for istep in range(maxsteps):\n",
    "            counter+=1\n",
    "            grid[x][y]=0\n",
    "    avetime=time/npart\n",
    "print(grid[x][y])\n",
    "print(grid)"
   ]
  },
  {
   "cell_type": "code",
   "execution_count": 22,
   "metadata": {},
   "outputs": [
    {
     "name": "stdout",
     "output_type": "stream",
     "text": [
      "side=21 <t>=125.30 <t>/r2= 0.28\n",
      "side=31 <t>=301.50 <t>/r2= 0.31\n",
      "side=41 <t>=510.62 <t>/r2= 0.30\n",
      "side=51 <t>=821.32 <t>/r2= 0.32\n",
      "side=61 <t>=1130.02 <t>/r2= 0.30\n",
      "side=71 <t>=1494.65 <t>/r2= 0.30\n",
      "side=81 <t>=1894.55 <t>/r2= 0.29\n",
      "side=91 <t>=2277.25 <t>/r2= 0.27\n",
      "side=101 <t>=3087.40 <t>/r2= 0.30\n"
     ]
    }
   ],
   "source": [
    "from random import choice\n",
    "npart=60\n",
    "side=55  #Should be an odd number\n",
    "time = 0\n",
    "steps = [(1,0),(-1,0),(0,1),(0,-1)]\n",
    "for side in range(21,102,10):\n",
    "    grid=[[0 for x in range(side)] for y in range(side)]\n",
    "    time=0\n",
    "    for ipart in range(npart):\n",
    "        x,y = side//2, side//2\n",
    "        counter=0\n",
    "        while 1:\n",
    "            counter+=1\n",
    "            grid[x][y]=0\n",
    "            sx,sy = choice(steps)\n",
    "            x += sx\n",
    "            y += sy\n",
    "            if x<0 or y<0 or x==side or y==side:\n",
    "               time+=counter\n",
    "               break\n",
    "            grid[x][y]=1\n",
    "    avetime=time/npart\n",
    "    print(\"side=%d <t>=%5.2f <t>/r2=%5.2f\"%(side,avetime,avetime/(side**2)))"
   ]
  },
  {
   "cell_type": "code",
   "execution_count": null,
   "metadata": {},
   "outputs": [],
   "source": []
  }
 ],
 "metadata": {
  "kernelspec": {
   "display_name": "Python 3",
   "language": "python",
   "name": "python3"
  },
  "language_info": {
   "codemirror_mode": {
    "name": "ipython",
    "version": 3
   },
   "file_extension": ".py",
   "mimetype": "text/x-python",
   "name": "python",
   "nbconvert_exporter": "python",
   "pygments_lexer": "ipython3",
   "version": "3.7.1"
  }
 },
 "nbformat": 4,
 "nbformat_minor": 2
}
